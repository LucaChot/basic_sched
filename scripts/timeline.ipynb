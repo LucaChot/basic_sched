{
 "cells": [
  {
   "cell_type": "markdown",
   "id": "83d3a882-ca75-494a-b09f-6292cab6afc2",
   "metadata": {},
   "source": [
    "# Displaying the Timeline of the Scheduler"
   ]
  },
  {
   "cell_type": "code",
   "execution_count": 11,
   "id": "59b2405d-554c-4292-a7ef-89c5fc5f3b09",
   "metadata": {},
   "outputs": [],
   "source": [
    "# Collect the logs of the events of scheduled pods\n",
    "!kubectl get events -A --sort-by=.metadata.creationTimestamp --field-selector reason=Scheduled -o json > temp.log"
   ]
  },
  {
   "cell_type": "code",
   "execution_count": 12,
   "id": "8ec71bfb-2f5d-47c6-9379-be9c7caaa82f",
   "metadata": {},
   "outputs": [],
   "source": [
    "# Loading event json\n",
    "import json\n",
    "\n",
    "# Plotting the timeline\n",
    "import matplotlib.pyplot as plt\n",
    "import matplotlib.dates as mdates\n",
    "from datetime import datetime, timedelta"
   ]
  },
  {
   "cell_type": "code",
   "execution_count": 13,
   "id": "d173dd78-6238-47bc-b54c-98f4793942c3",
   "metadata": {},
   "outputs": [],
   "source": [
    "with open('temp.log', 'r') as file:\n",
    "    data = json.load(file)"
   ]
  },
  {
   "cell_type": "code",
   "execution_count": 14,
   "id": "9ec6d429-a103-4504-8dbb-b8280b18fe52",
   "metadata": {},
   "outputs": [],
   "source": [
    "# Filter out the scheduling events that weren't carried out by our scheduler\n",
    "sched_name = 'basic-sched'\n",
    "basic_sched_events = [ x for x in data['items'] if  x['reportingComponent'] == sched_name]"
   ]
  },
  {
   "cell_type": "code",
   "execution_count": 15,
   "id": "1e5fb3d8-7dd9-4121-9625-246bdffab6ac",
   "metadata": {},
   "outputs": [],
   "source": [
    "# Select the most recent events\n",
    "latest = 10\n",
    "basic_sched_events = basic_sched_events[-10:]"
   ]
  },
  {
   "cell_type": "code",
   "execution_count": 16,
   "id": "b35d8dfe-470c-4b19-acf2-81e22257d3ef",
   "metadata": {},
   "outputs": [
    {
     "data": {
      "image/png": "[encoded data removed]",
      "text/plain": [
       "<Figure size 1000x400 with 1 Axes>"
      ]
     },
     "metadata": {},
     "output_type": "display_data"
    }
   ],
   "source": [
    "# Convert string timestamps to datetime objects and compute durations (in hours)\n",
    "for event in basic_sched_events:\n",
    "    event[\"end_dt\"] = datetime.fromisoformat(event[\"eventTime\"])\n",
    "    event[\"duration\"] = timedelta(microseconds= int(event['metadata']['annotations']['scheduler/nanoseconds']) / 1000)\n",
    "    #event[\"start_dt\"] = event[\"end_dt\"] - duration_td\n",
    "\n",
    "# Create the plot\n",
    "fig, ax = plt.subplots(figsize=(10, 4))\n",
    "\n",
    "# Plot each scheduling event as a horizontal bar\n",
    "for i, event in enumerate(basic_sched_events):\n",
    "    ax.barh(i, event[\"duration\"], left = event[\"end_dt\"] - event[\"duration\"], height=0.4, align='center')\n",
    "\n",
    "# Set y-axis with component names\n",
    "ax.set_yticks(range(len(basic_sched_events)))\n",
    "ax.set_yticklabels([event[\"involvedObject\"][\"name\"] for event in basic_sched_events])\n",
    "\n",
    "# Format the x-axis to show time (using hours and minutes)\n",
    "ax.xaxis_date()\n",
    "ax.xaxis.set_major_formatter(mdates.DateFormatter('%H:%M'))\n",
    "\n",
    "plt.xlabel(\"Time\")\n",
    "plt.title(\"Time Spent on Each Task\")\n",
    "plt.tight_layout()\n",
    "plt.show()\n"
   ]
  },
  {
   "cell_type": "code",
   "execution_count": 17,
   "id": "092da36e-de20-4f58-aabc-bc456a2a438c",
   "metadata": {},
   "outputs": [
    {
     "data": {
      "text/plain": [
       "[]"
      ]
     },
     "execution_count": 17,
     "metadata": {},
     "output_type": "execute_result"
    }
   ],
   "source": [
    "[(event[\"involvedObject\"][\"name\"], event['metadata']['annotations']['scheduler/nanoseconds']) for event in basic_sched_events]"
   ]
  },
  {
   "cell_type": "code",
   "execution_count": 18,
   "id": "2307e5b6-2487-46fc-93bf-bb7559bee752",
   "metadata": {},
   "outputs": [
    {
     "data": {
      "text/plain": [
       "[]"
      ]
     },
     "execution_count": 18,
     "metadata": {},
     "output_type": "execute_result"
    }
   ],
   "source": [
    "[(event[\"involvedObject\"][\"name\"], event['eventTime']) for event in basic_sched_events]"
   ]
  },
  {
   "cell_type": "code",
   "execution_count": null,
   "id": "3318667d-1b96-480b-83b0-de05f2fd3832",
   "metadata": {},
   "outputs": [],
   "source": []
  }
 ],
 "metadata": {
  "kernelspec": {
   "display_name": "Python 3 (ipykernel)",
   "language": "python",
   "name": "python3"
  },
  "language_info": {
   "codemirror_mode": {
    "name": "ipython",
    "version": 3
   },
   "file_extension": ".py",
   "mimetype": "text/x-python",
   "name": "python",
   "nbconvert_exporter": "python",
   "pygments_lexer": "ipython3",
   "version": "3.12.3"
  }
 },
 "nbformat": 4,
 "nbformat_minor": 5
}
