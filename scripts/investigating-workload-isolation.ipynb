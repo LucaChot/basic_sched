{
 "cells": [
  {
   "cell_type": "markdown",
   "id": "1a34554b-bde0-4a55-9b92-994682217a5f",
   "metadata": {},
   "source": [
    "# Investigating Workload Isolation"
   ]
  },
  {
   "cell_type": "code",
   "execution_count": 2,
   "id": "9106981c-7d6d-4a1e-9a42-370d497afba4",
   "metadata": {},
   "outputs": [],
   "source": [
    "# Values in ms\n",
    "statistics = ['avg', 'min', 'med', 'max', 'p(90)', 'p(95)', 'p(99)']\n",
    "results = {\n",
    "    'normal' : {},\n",
    "    'kube' : {},\n",
    "    'pronto' : {}\n",
    "}\n",
    "\n",
    "results['normal']['10/s'] = [3.05, 0.99, 3.04, 8.32, 3.78, 4, 4.47]\n",
    "results['kube']['10/s'] = [10.88, 1.07, 10.06, 54.49, 18.61, 22.28, 28.82]\n",
    "results['pronto']['10/s'] = [3.28, 1.00, 2.48, 17.39, 6.09, 7.82, 10.53]"
   ]
  },
  {
   "cell_type": "code",
   "execution_count": 3,
   "id": "acb2b06d-cc3d-4247-b56c-919664fe5952",
   "metadata": {},
   "outputs": [],
   "source": [
    "kube_job_completion = [106]\n",
    "pronto_job_completion = [108]"
   ]
  },
  {
   "cell_type": "code",
   "execution_count": 2,
   "id": "f409a2de-69c3-4d28-b707-4e9663421663",
   "metadata": {},
   "outputs": [],
   "source": [
    "throughput = {\n",
    "    100: {\n",
    "        'with' : [15,15,16]\n",
    "    },\n",
    "    200: {\n",
    "        'with' : [31,31,29]\n",
    "    },\n",
    "    500: {\n",
    "        'with' : [58,58,57]\n",
    "    },\n",
    "    750: {\n",
    "        'with' : [80, 80, 81]\n",
    "    },\n",
    "    1000: {\n",
    "        'with' : [106,105,105]\n",
    "    }\n",
    "}"
   ]
  },
  {
   "cell_type": "code",
   "execution_count": null,
   "id": "9b1574eb-f8c1-4ff5-b0c6-19142181f6e5",
   "metadata": {},
   "outputs": [],
   "source": []
  }
 ],
 "metadata": {
  "kernelspec": {
   "display_name": "Python 3 (ipykernel)",
   "language": "python",
   "name": "python3"
  },
  "language_info": {
   "codemirror_mode": {
    "name": "ipython",
    "version": 3
   },
   "file_extension": ".py",
   "mimetype": "text/x-python",
   "name": "python",
   "nbconvert_exporter": "python",
   "pygments_lexer": "ipython3",
   "version": "3.12.3"
  }
 },
 "nbformat": 4,
 "nbformat_minor": 5
}
